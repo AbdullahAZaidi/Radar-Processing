{
 "cells": [
  {
   "cell_type": "code",
   "execution_count": 18,
   "metadata": {},
   "outputs": [],
   "source": [
    "import numpy as np\n",
    "import matplotlib.pyplot as plt\n",
    "from scipy.fft import fft"
   ]
  },
  {
   "cell_type": "code",
   "execution_count": 149,
   "metadata": {},
   "outputs": [],
   "source": [
    "#1D FFT\n",
    "\n",
    "def FT (a):\n",
    "    z = fft(a)\n",
    "    z = abs(z)\n",
    "    z = z[len(z)//2:len(z)+1]\n",
    "    return z"
   ]
  },
  {
   "cell_type": "code",
   "execution_count": 177,
   "metadata": {},
   "outputs": [],
   "source": [
    "#2D FFT\n",
    "\n",
    "def TFT (b) :\n",
    "    z = np.fft.fft2(b)\n",
    "    z = abs(z)\n",
    "    z = z[1:len(z)//2+1]\n",
    "    z = np.fft.fftshift(z)\n",
    "    \n",
    "    return z"
   ]
  },
  {
   "cell_type": "code",
   "execution_count": 178,
   "metadata": {},
   "outputs": [
    {
     "name": "stdout",
     "output_type": "stream",
     "text": [
      "(128, 512)\n"
     ]
    },
    {
     "data": {
      "text/plain": [
       "<matplotlib.image.AxesImage at 0x11c7f16d0>"
      ]
     },
     "execution_count": 178,
     "metadata": {},
     "output_type": "execute_result"
    },
    {
     "data": {
      "image/png": "[encoded data removed]",
      "text/plain": [
       "<Figure size 432x288 with 1 Axes>"
      ]
     },
     "metadata": {
      "needs_background": "light"
     },
     "output_type": "display_data"
    }
   ],
   "source": [
    "#Range\n",
    "R = 55\n",
    "#Velocity\n",
    "v = 40\n",
    "\n",
    "#Carrier Frequency\n",
    "fc = 77e9\n",
    "\n",
    "#Speed of light\n",
    "c = 3e8\n",
    "\n",
    "#Range Resolution\n",
    "delta_r = 1\n",
    "\n",
    "#Slope\n",
    "B = c/(2*delta_r)\n",
    "\n",
    "#Chirp Time\n",
    "Ts = 30e-6\n",
    "\n",
    "#Doppler FFT bins\n",
    "Nd = 128\n",
    "\n",
    "#Range FFT bins\n",
    "Nr = 512\n",
    "\n",
    "#sampling frequency\n",
    "fs = 30e6\n",
    "\n",
    "#timestamps\n",
    "t = np.linspace(0, Nd*Ts, Nd*Nr )\n",
    "\n",
    "\n",
    "tx_s = []\n",
    "rx_s = []\n",
    "\n",
    "\n",
    "for i in range (len(t)):\n",
    "    \n",
    "    #motion of target\n",
    "    r = R + v*t[i]\n",
    "    \n",
    "    #time delay of target\n",
    "    tau = (2*r)/c\n",
    "    \n",
    "    #Transmit signal\n",
    "    tx = np.cos((2*np.pi*fc*t[i]) + (B*(t[i]**2)/2) )\n",
    "    \n",
    "    #receive signal with time delay\n",
    "    rx = np.cos((2*np.pi*fc*(t[i]-tau)) + (B*(t[i]-tau)**2/2))\n",
    "    \n",
    "    tx_s.append(tx)\n",
    "    rx_s.append(rx)\n",
    "    \n",
    "\n",
    "#mixing or dechirping the signal\n",
    "mix = np.multiply(tx_s,rx_s)\n",
    "\n",
    "#reshaping the array to 2D matrix of 128 x 256\n",
    "mix = np.reshape(mix,(Nd,Nr))\n",
    "\n",
    "print (mix.shape)\n",
    "\n",
    "#1D FFT map\n",
    "# for i in range(128):\n",
    "    \n",
    "#     rplot = FT(mix[i,:])\n",
    "#     plt.plot(rplot)\n",
    "\n",
    "\n",
    "# #range-doppler map\n",
    "rdm = TFT(mix)\n",
    "\n",
    "#plot rdm    \n",
    "plt.imshow(rdm)\n"
   ]
  },
  {
   "cell_type": "code",
   "execution_count": null,
   "metadata": {},
   "outputs": [],
   "source": []
  },
  {
   "cell_type": "code",
   "execution_count": null,
   "metadata": {},
   "outputs": [],
   "source": []
  },
  {
   "cell_type": "code",
   "execution_count": null,
   "metadata": {},
   "outputs": [],
   "source": []
  }
 ],
 "metadata": {
  "kernelspec": {
   "display_name": "Python 3",
   "language": "python",
   "name": "python3"
  },
  "language_info": {
   "codemirror_mode": {
    "name": "ipython",
    "version": 3
   },
   "file_extension": ".py",
   "mimetype": "text/x-python",
   "name": "python",
   "nbconvert_exporter": "python",
   "pygments_lexer": "ipython3",
   "version": "3.8.3"
  }
 },
 "nbformat": 4,
 "nbformat_minor": 4
}
